{
 "cells": [
  {
   "metadata": {},
   "cell_type": "markdown",
   "source": [
    "# LLaMA Token Analysis Visualization\n",
    "\n",
    "This notebook loads token analysis results from storage and creates visualizations\n",
    "to help understand token associations and influences.\n"
   ],
   "id": "7a81008058eeec2f"
  },
  {
   "metadata": {
    "ExecuteTime": {
     "end_time": "2025-03-31T13:07:41.932607Z",
     "start_time": "2025-03-31T13:07:38.557754Z"
    }
   },
   "cell_type": "code",
   "source": [
    "import logging\n",
    "import pandas as pd\n",
    "from datetime import datetime, timezone\n",
    "from returns.result import Success, Failure\n",
    "\n",
    "from work.llama_token_analyzer.persistence.storage import TokenAnalysisStorage\n",
    "from work.llama_token_analyzer.visualization.main import visualize\n",
    "\n",
    "# Setup logging\n",
    "logging.basicConfig(level=logging.INFO)\n",
    "logger = logging.getLogger(__name__)\n",
    "\n"
   ],
   "id": "8613be281aa69eac",
   "outputs": [],
   "execution_count": 1
  },
  {
   "metadata": {},
   "cell_type": "markdown",
   "source": "## Initialize Storage and Load Data\n",
   "id": "9156b38b6fd82a42"
  },
  {
   "metadata": {
    "ExecuteTime": {
     "end_time": "2025-03-31T13:07:43.504228Z",
     "start_time": "2025-03-31T13:07:43.497566Z"
    }
   },
   "cell_type": "code",
   "source": [
    "storage = TokenAnalysisStorage(\"output\")\n",
    "\n",
    "# Function to ensure consistent timezone handling\n",
    "def get_date_range(days: int = 7) -> tuple[str, str]:\n",
    "    \"\"\"Get a date range with consistent timezone handling.\"\"\"\n",
    "    end_date = datetime.now(timezone.utc)\n",
    "    start_date = end_date - pd.Timedelta(days=days)\n",
    "    \n",
    "    # Ensure both are timezone-aware and in UTC\n",
    "    return (\n",
    "        start_date.astimezone(timezone.utc).isoformat(),\n",
    "        end_date.astimezone(timezone.utc).isoformat()\n",
    "    )\n",
    "\n",
    "# Get date range with proper timezone handling\n",
    "filter_criteria = {\n",
    "    'date_range': get_date_range(days=7)\n",
    "}\n",
    "\n",
    "results = storage.load_multiple(filter_criteria)\n"
   ],
   "id": "a3a6da867c6a3fa0",
   "outputs": [
    {
     "name": "stderr",
     "output_type": "stream",
     "text": [
      "INFO:llama_token_analyzer.persistence.storage:Padded matrix to shape: (11, 36)\n"
     ]
    }
   ],
   "execution_count": 2
  },
  {
   "metadata": {},
   "cell_type": "markdown",
   "source": "## Visualization Functions\n",
   "id": "6876e00238b095f"
  },
  {
   "metadata": {
    "ExecuteTime": {
     "end_time": "2025-03-31T13:07:46.519779Z",
     "start_time": "2025-03-31T13:07:46.369094Z"
    }
   },
   "cell_type": "code",
   "source": [
    "# Process and visualize results\n",
    "for result in results:\n",
    "    match result:\n",
    "        case Success(analysis):\n",
    "            visualize(analysis, storage = storage, exclude_system=True)\n",
    "        case Failure(error):\n",
    "            logger.warning(f\"Failed to process result: {error}\")\n",
    "\n"
   ],
   "id": "e39bb010c50f1c47",
   "outputs": [
    {
     "name": "stderr",
     "output_type": "stream",
     "text": [
      "ERROR:llama_token_analyzer.visualization.plots:Error in visualization: boolean index did not match indexed array along dimension 1; dimension is 36 but corresponding boolean dimension is 25\n",
      "ERROR:llama_token_analyzer.visualization.plots:Input tokens: 25\n",
      "ERROR:llama_token_analyzer.visualization.plots:Output tokens: 11\n",
      "ERROR:llama_token_analyzer.visualization.plots:Association matrix shape: (11, 36)\n"
     ]
    },
    {
     "ename": "IndexError",
     "evalue": "boolean index did not match indexed array along dimension 1; dimension is 36 but corresponding boolean dimension is 25",
     "output_type": "error",
     "traceback": [
      "\u001B[0;31m---------------------------------------------------------------------------\u001B[0m",
      "\u001B[0;31mIndexError\u001B[0m                                Traceback (most recent call last)",
      "Cell \u001B[0;32mIn[3], line 5\u001B[0m\n\u001B[1;32m      3\u001B[0m \u001B[38;5;28;01mmatch\u001B[39;00m result:\n\u001B[1;32m      4\u001B[0m     \u001B[38;5;28;01mcase\u001B[39;00m Success(analysis):\n\u001B[0;32m----> 5\u001B[0m         \u001B[43mvisualize\u001B[49m\u001B[43m(\u001B[49m\u001B[43manalysis\u001B[49m\u001B[43m,\u001B[49m\u001B[43m \u001B[49m\u001B[43mstorage\u001B[49m\u001B[43m \u001B[49m\u001B[38;5;241;43m=\u001B[39;49m\u001B[43m \u001B[49m\u001B[43mstorage\u001B[49m\u001B[43m,\u001B[49m\u001B[43m \u001B[49m\u001B[43mexclude_system\u001B[49m\u001B[38;5;241;43m=\u001B[39;49m\u001B[38;5;28;43;01mTrue\u001B[39;49;00m\u001B[43m)\u001B[49m\n\u001B[1;32m      6\u001B[0m     \u001B[38;5;28;01mcase\u001B[39;00m Failure(error):\n\u001B[1;32m      7\u001B[0m         logger\u001B[38;5;241m.\u001B[39mwarning(\u001B[38;5;124mf\u001B[39m\u001B[38;5;124m\"\u001B[39m\u001B[38;5;124mFailed to process result: \u001B[39m\u001B[38;5;132;01m{\u001B[39;00merror\u001B[38;5;132;01m}\u001B[39;00m\u001B[38;5;124m\"\u001B[39m)\n",
      "File \u001B[0;32m~/Projects/llama_token_analyzer/llama_token_analyzer/visualization/main.py:8\u001B[0m, in \u001B[0;36mvisualize\u001B[0;34m(result, storage, exclude_system, save)\u001B[0m\n\u001B[1;32m      5\u001B[0m \u001B[38;5;28;01mdef\u001B[39;00m\u001B[38;5;250m \u001B[39m\u001B[38;5;21mvisualize\u001B[39m(result, storage: TokenAnalysisStorage, exclude_system\u001B[38;5;241m=\u001B[39m\u001B[38;5;28;01mFalse\u001B[39;00m, save\u001B[38;5;241m=\u001B[39m\u001B[38;5;28;01mTrue\u001B[39;00m):\n\u001B[1;32m      6\u001B[0m     prompt_name \u001B[38;5;241m=\u001B[39m result\u001B[38;5;241m.\u001B[39mmetadata\u001B[38;5;241m.\u001B[39mprompt[:\u001B[38;5;241m50\u001B[39m]\n\u001B[1;32m      7\u001B[0m     \u001B[38;5;28;01mreturn\u001B[39;00m (\n\u001B[0;32m----> 8\u001B[0m     \u001B[43mvisualize_token_influence\u001B[49m\u001B[43m(\u001B[49m\u001B[43mresult\u001B[49m\u001B[43m,\u001B[49m\u001B[43m \u001B[49m\u001B[43mname\u001B[49m\u001B[38;5;241;43m=\u001B[39;49m\u001B[43mprompt_name\u001B[49m\u001B[43m,\u001B[49m\u001B[43m \u001B[49m\u001B[43mstorage\u001B[49m\u001B[38;5;241;43m=\u001B[39;49m\u001B[43mstorage\u001B[49m\u001B[43m,\u001B[49m\u001B[43m \u001B[49m\u001B[43mexclude_system\u001B[49m\u001B[38;5;241;43m=\u001B[39;49m\u001B[43mexclude_system\u001B[49m\u001B[43m,\u001B[49m\u001B[43m \u001B[49m\u001B[43msave\u001B[49m\u001B[38;5;241;43m=\u001B[39;49m\u001B[43msave\u001B[49m\u001B[43m)\u001B[49m,\n\u001B[1;32m      9\u001B[0m     visualize_summed_token_association(result, name\u001B[38;5;241m=\u001B[39mprompt_name, storage\u001B[38;5;241m=\u001B[39mstorage, show_boxplots\u001B[38;5;241m=\u001B[39m\u001B[38;5;28;01mTrue\u001B[39;00m,\n\u001B[1;32m     10\u001B[0m                                        exclude_system\u001B[38;5;241m=\u001B[39mexclude_system, save\u001B[38;5;241m=\u001B[39msave)\n\u001B[1;32m     11\u001B[0m     )\n",
      "File \u001B[0;32m~/Projects/llama_token_analyzer/llama_token_analyzer/visualization/plots.py:43\u001B[0m, in \u001B[0;36mvisualize_token_influence\u001B[0;34m(analysis_result, name, storage, exclude_system, save)\u001B[0m\n\u001B[1;32m     40\u001B[0m association_matrix \u001B[38;5;241m=\u001B[39m np\u001B[38;5;241m.\u001B[39marray(analysis_result\u001B[38;5;241m.\u001B[39mdata\u001B[38;5;241m.\u001B[39massociation_matrix)\u001B[38;5;241m.\u001B[39mastype(np\u001B[38;5;241m.\u001B[39mfloat64)\n\u001B[1;32m     42\u001B[0m \u001B[38;5;66;03m# Filter system tokens if requested\u001B[39;00m\n\u001B[0;32m---> 43\u001B[0m input_tokens, output_tokens, association_matrix \u001B[38;5;241m=\u001B[39m \u001B[43mfilter_tokens_and_matrix\u001B[49m\u001B[43m(\u001B[49m\n\u001B[1;32m     44\u001B[0m \u001B[43m    \u001B[49m\u001B[43minput_tokens\u001B[49m\u001B[43m,\u001B[49m\u001B[43m \u001B[49m\u001B[43moutput_tokens\u001B[49m\u001B[43m,\u001B[49m\u001B[43m \u001B[49m\u001B[43massociation_matrix\u001B[49m\u001B[43m,\u001B[49m\u001B[43m \u001B[49m\u001B[43mexclude_system\u001B[49m\n\u001B[1;32m     45\u001B[0m \u001B[43m\u001B[49m\u001B[43m)\u001B[49m\n\u001B[1;32m     47\u001B[0m \u001B[38;5;66;03m# Log shapes\u001B[39;00m\n\u001B[1;32m     48\u001B[0m logger\u001B[38;5;241m.\u001B[39minfo(\u001B[38;5;124mf\u001B[39m\u001B[38;5;124m\"\u001B[39m\u001B[38;5;124mMatrix shape: \u001B[39m\u001B[38;5;132;01m{\u001B[39;00massociation_matrix\u001B[38;5;241m.\u001B[39mshape\u001B[38;5;132;01m}\u001B[39;00m\u001B[38;5;124m\"\u001B[39m)\n",
      "File \u001B[0;32m~/Projects/llama_token_analyzer/llama_token_analyzer/visualization/plots.py:28\u001B[0m, in \u001B[0;36mfilter_tokens_and_matrix\u001B[0;34m(input_tokens, output_tokens, association_matrix, exclude_system)\u001B[0m\n\u001B[1;32m     25\u001B[0m filtered_output_tokens \u001B[38;5;241m=\u001B[39m [t \u001B[38;5;28;01mfor\u001B[39;00m t, m \u001B[38;5;129;01min\u001B[39;00m \u001B[38;5;28mzip\u001B[39m(output_tokens, output_mask) \u001B[38;5;28;01mif\u001B[39;00m m]\n\u001B[1;32m     27\u001B[0m \u001B[38;5;66;03m# Filter matrix\u001B[39;00m\n\u001B[0;32m---> 28\u001B[0m filtered_matrix \u001B[38;5;241m=\u001B[39m \u001B[43massociation_matrix\u001B[49m\u001B[43m[\u001B[49m\u001B[43moutput_mask\u001B[49m\u001B[43m]\u001B[49m\u001B[43m[\u001B[49m\u001B[43m:\u001B[49m\u001B[43m,\u001B[49m\u001B[43m \u001B[49m\u001B[43minput_mask\u001B[49m\u001B[43m]\u001B[49m\n\u001B[1;32m     30\u001B[0m \u001B[38;5;28;01mreturn\u001B[39;00m filtered_input_tokens, filtered_output_tokens, filtered_matrix\n",
      "\u001B[0;31mIndexError\u001B[0m: boolean index did not match indexed array along dimension 1; dimension is 36 but corresponding boolean dimension is 25"
     ]
    }
   ],
   "execution_count": 3
  },
  {
   "metadata": {},
   "cell_type": "code",
   "source": "",
   "id": "bc8b4136bf66684a",
   "outputs": [],
   "execution_count": null
  }
 ],
 "metadata": {
  "kernelspec": {
   "display_name": "Python 3",
   "language": "python",
   "name": "python3"
  },
  "language_info": {
   "codemirror_mode": {
    "name": "ipython",
    "version": 2
   },
   "file_extension": ".py",
   "mimetype": "text/x-python",
   "name": "python",
   "nbconvert_exporter": "python",
   "pygments_lexer": "ipython2",
   "version": "2.7.6"
  }
 },
 "nbformat": 4,
 "nbformat_minor": 5
}
