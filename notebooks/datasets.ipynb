{
 "cells": [
  {
   "metadata": {
    "ExecuteTime": {
     "end_time": "2025-04-01T15:10:28.617151Z",
     "start_time": "2025-04-01T15:10:25.036367Z"
    }
   },
   "cell_type": "code",
   "source": [
    "\n",
    "import pandas as pd\n",
    "\n",
    "df = pd.read_csv(\"hf://datasets/google/FACTS-grounding-public/examples.csv\")"
   ],
   "id": "10d3208bc2560985",
   "outputs": [],
   "execution_count": 1
  },
  {
   "metadata": {
    "ExecuteTime": {
     "end_time": "2025-04-01T15:10:42.368921Z",
     "start_time": "2025-04-01T15:10:42.360311Z"
    }
   },
   "cell_type": "code",
   "source": "df.info()",
   "id": "20ee565796ab8fc2",
   "outputs": [
    {
     "name": "stdout",
     "output_type": "stream",
     "text": [
      "<class 'pandas.core.frame.DataFrame'>\n",
      "RangeIndex: 860 entries, 0 to 859\n",
      "Data columns (total 4 columns):\n",
      " #   Column              Non-Null Count  Dtype \n",
      "---  ------              --------------  ----- \n",
      " 0   system_instruction  860 non-null    object\n",
      " 1   user_request        860 non-null    object\n",
      " 2   context_document    860 non-null    object\n",
      " 3   full_prompt         860 non-null    object\n",
      "dtypes: object(4)\n",
      "memory usage: 27.0+ KB\n"
     ]
    }
   ],
   "execution_count": 3
  },
  {
   "metadata": {},
   "cell_type": "code",
   "outputs": [],
   "execution_count": null,
   "source": "",
   "id": "7f23e7e5e935cb0c"
  }
 ],
 "metadata": {
  "kernelspec": {
   "name": "python3",
   "language": "python",
   "display_name": "Python 3 (ipykernel)"
  }
 },
 "nbformat": 5,
 "nbformat_minor": 9
}
