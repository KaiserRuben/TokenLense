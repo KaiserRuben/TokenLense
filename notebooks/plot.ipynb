{
 "cells": [
  {
   "metadata": {},
   "cell_type": "markdown",
   "source": [
    "# LLaMA Token Analysis Visualization\n",
    "\n",
    "This notebook loads token analysis results from storage and creates visualizations\n",
    "to help understand token associations and influences.\n"
   ],
   "id": "7a81008058eeec2f"
  },
  {
   "metadata": {},
   "cell_type": "code",
   "source": [
    "import logging\n",
    "import pandas as pd\n",
    "from datetime import datetime, timezone\n",
    "from returns.result import Success, Failure\n",
    "\n",
    "from llama_token_analyzer.persistence.storage import TokenAnalysisStorage\n",
    "from llama_token_analyzer.visualization.main import visualize\n",
    "\n",
    "# Setup logging\n",
    "logging.basicConfig(level=logging.INFO)\n",
    "logger = logging.getLogger(__name__)\n",
    "\n"
   ],
   "id": "8613be281aa69eac",
   "outputs": [],
   "execution_count": null
  },
  {
   "metadata": {},
   "cell_type": "markdown",
   "source": "## Initialize Storage and Load Data\n",
   "id": "9156b38b6fd82a42"
  },
  {
   "metadata": {},
   "cell_type": "code",
   "source": [
    "storage = TokenAnalysisStorage(\"output\")\n",
    "\n",
    "# Function to ensure consistent timezone handling\n",
    "def get_date_range(days: int = 7) -> tuple[str, str]:\n",
    "    \"\"\"Get a date range with consistent timezone handling.\"\"\"\n",
    "    end_date = datetime.now(timezone.utc)\n",
    "    start_date = end_date - pd.Timedelta(days=days)\n",
    "    \n",
    "    # Ensure both are timezone-aware and in UTC\n",
    "    return (\n",
    "        start_date.astimezone(timezone.utc).isoformat(),\n",
    "        end_date.astimezone(timezone.utc).isoformat()\n",
    "    )\n",
    "\n",
    "# Get date range with proper timezone handling\n",
    "filter_criteria = {\n",
    "    'date_range': get_date_range(days=7)\n",
    "}\n",
    "\n",
    "results = storage.load_multiple(filter_criteria)\n"
   ],
   "id": "a3a6da867c6a3fa0",
   "outputs": [],
   "execution_count": null
  },
  {
   "metadata": {},
   "cell_type": "markdown",
   "source": "## Visualization Functions\n",
   "id": "6876e00238b095f"
  },
  {
   "metadata": {},
   "cell_type": "code",
   "source": [
    "# Process and visualize results\n",
    "for result in results:\n",
    "    match result:\n",
    "        case Success(analysis):\n",
    "            visualize(analysis, storage = storage, exclude_system=True)\n",
    "        case Failure(error):\n",
    "            logger.warning(f\"Failed to process result: {error}\")\n",
    "\n"
   ],
   "id": "e39bb010c50f1c47",
   "outputs": [],
   "execution_count": null
  },
  {
   "metadata": {},
   "cell_type": "code",
   "source": "",
   "id": "bc8b4136bf66684a",
   "outputs": [],
   "execution_count": null
  }
 ],
 "metadata": {
  "kernelspec": {
   "display_name": "Python 3",
   "language": "python",
   "name": "python3"
  },
  "language_info": {
   "codemirror_mode": {
    "name": "ipython",
    "version": 2
   },
   "file_extension": ".py",
   "mimetype": "text/x-python",
   "name": "python",
   "nbconvert_exporter": "python",
   "pygments_lexer": "ipython2",
   "version": "2.7.6"
  }
 },
 "nbformat": 4,
 "nbformat_minor": 5
}
